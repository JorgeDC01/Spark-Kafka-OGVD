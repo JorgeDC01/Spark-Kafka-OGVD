{
 "cells": [
  {
   "cell_type": "code",
   "execution_count": 16,
   "id": "2f72557a-2f6f-477b-9e95-c137499f4fa1",
   "metadata": {},
   "outputs": [],
   "source": [
    "from kafka import KafkaProducer\n",
    "import json\n",
    "import time\n",
    "import random\n",
    "from math import cos, pi\n",
    "import numpy as np"
   ]
  },
  {
   "cell_type": "code",
   "execution_count": 17,
   "id": "ef78881f-cd93-42a9-86e6-66ff11815015",
   "metadata": {},
   "outputs": [],
   "source": [
    "def generate_sensor_data():\n",
    "    timestamp = int(time.time())\n",
    "\n",
    "    # Simulate IoT sensor data for water quality metrics with realistic patterns\n",
    "    water_temperature = random.uniform(1, 3) + round(20 + 5 * (1 + 0.5 * (1 + cos((timestamp % 86400) / 86400 * 2 * pi))), 2)\n",
    "    ph_level = random.uniform(0, 1) + round(7.5 + 0.2 * (1 + cos((timestamp % 86400) / 86400 * 2 * pi)), 2)\n",
    "    turbidity = round(random.uniform(5, 50), 2)  # Turbidity in NTU (Nephelometric Turbidity Units)\n",
    "    dissolved_oxygen = round(random.uniform(5, 12), 2)  # Dissolved Oxygen in mg/L\n",
    "    \n",
    "    return {\n",
    "        \"timestamp\": timestamp,\n",
    "        \"water_temperature\": water_temperature,\n",
    "        \"ph_level\": ph_level,\n",
    "        \"turbidity\": turbidity,\n",
    "        \"dissolved_oxygen\": dissolved_oxygen\n",
    "    }\n"
   ]
  },
  {
   "cell_type": "code",
   "execution_count": 29,
   "id": "7ad3ddc4-b131-4141-8600-5d0a381c1afc",
   "metadata": {},
   "outputs": [
    {
     "name": "stdout",
     "output_type": "stream",
     "text": [
      "Producing messages to Kafka topic 'water_quality'...\n",
      "Productor: 0\n",
      "Productor: 1\n",
      "Productor: 2\n",
      "Sent: {'timestamp': 1741107201, 'water_temperature': 28.1592322600538, 'ph_level': 7.665326723828149, 'turbidity': 47.9, 'dissolved_oxygen': 8.32}\n",
      "Productor: 0\n",
      "Productor: 1\n",
      "Productor: 2\n",
      "Sent: {'timestamp': 1741107217, 'water_temperature': 29.638584288199638, 'ph_level': 7.6486438722679555, 'turbidity': 14.82, 'dissolved_oxygen': 6.54}\n",
      "Productor: 0\n",
      "Productor: 1\n",
      "Productor: 2\n",
      "Sent: {'timestamp': 1741107233, 'water_temperature': 27.912460121671874, 'ph_level': 8.102350859971873, 'turbidity': 35.79, 'dissolved_oxygen': 10.27}\n",
      "Productor: 0\n",
      "Productor: 1\n",
      "Productor: 2\n",
      "Sent: {'timestamp': 1741107249, 'water_temperature': 27.985493786140164, 'ph_level': 8.198178904814348, 'turbidity': 8.05, 'dissolved_oxygen': 11.99}\n",
      "Productor: 0\n",
      "Productor: 1\n",
      "Productor: 2\n",
      "Stopped producing messages.\n"
     ]
    }
   ],
   "source": [
    "import sys\n",
    "import time\n",
    "# Kafka configuration\n",
    "kafka_topic = \"water_quality\"\n",
    "kafka_bootstrap_servers = [\"localhost:9092\"] \n",
    "\n",
    "productores= []\n",
    "for i in range(3):\n",
    "    # Create Kafka producer\n",
    "    producer = KafkaProducer(bootstrap_servers=kafka_bootstrap_servers,value_serializer=lambda v: json.dumps(v).encode('utf-8'))\n",
    "\n",
    "    productores.append(producer)\n",
    "\n",
    "\n",
    "print(f\"Producing messages to Kafka topic '{kafka_topic}'...\")\n",
    "\n",
    "try:\n",
    "    while True:\n",
    "        for i, productor in enumerate(productores):\n",
    "            SENSOR_ID = sys.argv[1] if len(sys.argv) > 1 else \"default_sensor\"\n",
    "\n",
    "            # Generate sensor data\n",
    "            sensor_data = generate_sensor_data()\n",
    "            print(f'Productor: {i}')\n",
    "            # Publish sensor data to Kafka\n",
    "            productor.send(kafka_topic, key=SENSOR_ID.encode('utf-8'), value=sensor_data)\n",
    "            time.sleep(5)\n",
    "\n",
    "\n",
    "        print(f\"Sent: {sensor_data}\")\n",
    "\n",
    "        # Wait for 1 second\n",
    "        time.sleep(1)\n",
    "except KeyboardInterrupt:\n",
    "    print(\"Stopped producing messages.\")\n",
    "finally:\n",
    "    producer.close()"
   ]
  },
  {
   "cell_type": "code",
   "execution_count": null,
   "id": "640e94a2-d479-4b9f-aaa9-3c924d122a34",
   "metadata": {},
   "outputs": [],
   "source": []
  },
  {
   "cell_type": "code",
   "execution_count": null,
   "id": "f782c7da-15bd-4b2e-bec2-e83d60a026c8",
   "metadata": {},
   "outputs": [],
   "source": []
  },
  {
   "cell_type": "code",
   "execution_count": null,
   "id": "d87f5fb6-79df-4d19-ae52-872661ca21b1",
   "metadata": {},
   "outputs": [],
   "source": []
  },
  {
   "cell_type": "code",
   "execution_count": null,
   "id": "74350d9d-d131-4ef3-9b99-0ecbfaa80ffa",
   "metadata": {},
   "outputs": [],
   "source": []
  }
 ],
 "metadata": {
  "kernelspec": {
   "display_name": "Python 3 (ipykernel)",
   "language": "python",
   "name": "python3"
  },
  "language_info": {
   "codemirror_mode": {
    "name": "ipython",
    "version": 3
   },
   "file_extension": ".py",
   "mimetype": "text/x-python",
   "name": "python",
   "nbconvert_exporter": "python",
   "pygments_lexer": "ipython3",
   "version": "3.10.12"
  }
 },
 "nbformat": 4,
 "nbformat_minor": 5
}
