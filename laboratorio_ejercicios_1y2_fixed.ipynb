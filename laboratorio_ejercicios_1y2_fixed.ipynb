{
 "cells": [
  {
   "cell_type": "code",
   "execution_count": 1,
   "id": "a165406d-2b10-4507-90ac-22fa41acbe55",
   "metadata": {},
   "outputs": [
    {
     "name": "stderr",
     "output_type": "stream",
     "text": [
      "Setting default log level to \"WARN\".\n",
      "To adjust logging level use sc.setLogLevel(newLevel). For SparkR, use setLogLevel(newLevel).\n",
      "25/03/25 15:29:44 WARN NativeCodeLoader: Unable to load native-hadoop library for your platform... using builtin-java classes where applicable\n"
     ]
    }
   ],
   "source": [
    "import numpy as np\n",
    "from pyspark import SparkContext\n",
    "sc = SparkContext(\"local[*]\", \"Practica1\")\n"
   ]
  },
  {
   "cell_type": "code",
   "execution_count": 2,
   "id": "3a8da62e-911f-4801-8c0c-7cd37c5b755b",
   "metadata": {},
   "outputs": [],
   "source": [
    "def readFile(filename):\n",
    "    text_file = sc.textFile(filename)\n",
    "    text_file = text_file.map(lambda linea: np.array(linea.split(',')).astype(float))\n",
    "    text_file= text_file.map(lambda x: (x[0:-1], int(x[-1])))\n",
    "    return text_file    "
   ]
  },
  {
   "cell_type": "markdown",
   "id": "33531cd0-365e-405f-af6d-6b1da13dbdb0",
   "metadata": {},
   "source": [
    "CSV separado por comas \",\"\n",
    "\n",
    "num filas= 1.000.000, num columnas= 12\n",
    "\n",
    "Cada celda es un numero. \n",
    "\n",
    "La ultima celda de cada fila es la etiqueta (0/1)"
   ]
  },
  {
   "cell_type": "markdown",
   "id": "203f55b7-6a7a-4570-a9ee-c4328f27f885",
   "metadata": {},
   "source": [
    "FUNCIONES textFile, count, map, flatMap, reduce and reduceByKey. "
   ]
  },
  {
   "cell_type": "code",
   "execution_count": 17,
   "id": "bde680b7-f58e-4a39-955c-b43f066e477f",
   "metadata": {},
   "outputs": [
    {
     "data": {
      "text/plain": [
       "PythonRDD[19] at RDD at PythonRDD.scala:53"
      ]
     },
     "execution_count": 17,
     "metadata": {},
     "output_type": "execute_result"
    }
   ],
   "source": [
    "text_file= readFile('botnet_reduced_10k_l.csv')\n",
    "text_file"
   ]
  },
  {
   "cell_type": "code",
   "execution_count": 18,
   "id": "0b642061-2d1f-4248-b4ac-a700b2950ac7",
   "metadata": {},
   "outputs": [],
   "source": [
    "def normalize (RDD_Xy):\n",
    "    # ------------------------------------------------------------------------\n",
    "    rdd_rows = RDD_Xy.map(lambda row: row[0])  \n",
    "    sumas = rdd_rows.reduce(lambda x, y: x + y)  \n",
    "    means_array = sumas / RDD_Xy.count()\n",
    "    #print(f\"5 Primeras medias: {means_array[0:5]}\")\n",
    "    \n",
    "    rdd_diff = rdd_rows.map(lambda x_array: (x_array - means_array)**2)\n",
    "    array_diff_sumatorio = rdd_diff.reduce(lambda x_row, y_row: x_row + y_row)\n",
    "    array_varianza = np.maximum(array_diff_sumatorio / RDD_Xy.count(), 0)\n",
    "    #print(f\"5 Primeras Varianzas: {array_varianza[0:5]}\")\n",
    "\n",
    "    \n",
    "    # rdd_final = rdd_rows.map(lambda row: np.array([(value - means_array[idx_column]) / array_varianza[idx_column] for idx_column, value in enumerate(row)]))\n",
    "    # #rdd_final.collect())\n",
    "    # print(rdd_final.collect())\n",
    "\n",
    "    rdd_final = RDD_Xy.map(lambda row: (\n",
    "        np.array([(value - means_array[idx_column]) / np.sqrt(array_varianza[idx_column]) \n",
    "                  for idx_column, value in enumerate(row[0])]), row[1]\n",
    "    ) )\n",
    "    return rdd_final\n",
    "    #print(rdd_final.collect())"
   ]
  },
  {
   "cell_type": "code",
   "execution_count": 19,
   "id": "588d859c-c606-4051-a95c-fb7d6686d509",
   "metadata": {},
   "outputs": [
    {
     "name": "stderr",
     "output_type": "stream",
     "text": [
      "                                                                                \r"
     ]
    },
    {
     "data": {
      "text/plain": [
       "[(array([ 1.41281668, -0.75956071, -0.41204268, -0.45940748,  1.39580934,\n",
       "         -0.35386218,  0.74057161, -0.8945781 , -0.40163083, -2.91039199,\n",
       "          0.1567098 ]),\n",
       "  0),\n",
       " (array([-0.79867306, -0.89146231,  3.64034447, -0.45940748, -0.52296869,\n",
       "         -0.35387136,  0.55184122, -0.8945781 , -1.27444226,  0.4762026 ,\n",
       "          0.1567098 ]),\n",
       "  1)]"
      ]
     },
     "execution_count": 19,
     "metadata": {},
     "output_type": "execute_result"
    }
   ],
   "source": [
    "rdd1 = normalize(text_file)\n",
    "rdd1.take(2)"
   ]
  },
  {
   "cell_type": "code",
   "execution_count": 20,
   "id": "7d96336e-06bf-4186-980e-b01097f27574",
   "metadata": {},
   "outputs": [
    {
     "name": "stderr",
     "output_type": "stream",
     "text": [
      "                                                                                \r"
     ]
    },
    {
     "data": {
      "text/plain": [
       "array([1., 1., 1., 1., 1., 1., 1., 1., 1., 1., 1.])"
      ]
     },
     "execution_count": 20,
     "metadata": {},
     "output_type": "execute_result"
    }
   ],
   "source": [
    "rdd6= rdd1.map(lambda x : x[0])\n",
    "rdd6.stdev()"
   ]
  },
  {
   "cell_type": "code",
   "execution_count": 21,
   "id": "f9c1d57f-4100-4833-85f0-d862bbb4f3e5",
   "metadata": {},
   "outputs": [],
   "source": [
    "#rdd_weighted_sum = rdd.map(lambda row: sum(w * x for w, x in zip(weights, row)))"
   ]
  },
  {
   "cell_type": "code",
   "execution_count": 24,
   "id": "3a05bad9-ca3e-4689-b2db-f620a34ba045",
   "metadata": {
    "scrolled": true
   },
   "outputs": [
    {
     "name": "stderr",
     "output_type": "stream",
     "text": [
      "                                                                                \r"
     ]
    },
    {
     "name": "stdout",
     "output_type": "stream",
     "text": [
      "Iteration [0]: [1.35588688]\n"
     ]
    },
    {
     "name": "stderr",
     "output_type": "stream",
     "text": [
      "                                                                                \r"
     ]
    },
    {
     "name": "stdout",
     "output_type": "stream",
     "text": [
      "Iteration [1]: [0.68341465]\n"
     ]
    },
    {
     "name": "stderr",
     "output_type": "stream",
     "text": [
      "                                                                                \r"
     ]
    },
    {
     "name": "stdout",
     "output_type": "stream",
     "text": [
      "Iteration [2]: [0.53261946]\n"
     ]
    },
    {
     "name": "stderr",
     "output_type": "stream",
     "text": [
      "                                                                                \r"
     ]
    },
    {
     "name": "stdout",
     "output_type": "stream",
     "text": [
      "Iteration [3]: [0.50593201]\n"
     ]
    },
    {
     "name": "stderr",
     "output_type": "stream",
     "text": [
      "                                                                                \r"
     ]
    },
    {
     "name": "stdout",
     "output_type": "stream",
     "text": [
      "Iteration [4]: [0.52400947]\n"
     ]
    },
    {
     "name": "stderr",
     "output_type": "stream",
     "text": [
      "                                                                                \r"
     ]
    },
    {
     "name": "stdout",
     "output_type": "stream",
     "text": [
      "Iteration [5]: [0.56981694]\n"
     ]
    },
    {
     "name": "stderr",
     "output_type": "stream",
     "text": [
      "                                                                                \r"
     ]
    },
    {
     "name": "stdout",
     "output_type": "stream",
     "text": [
      "Iteration [6]: [0.64001382]\n"
     ]
    },
    {
     "name": "stderr",
     "output_type": "stream",
     "text": [
      "                                                                                \r"
     ]
    },
    {
     "name": "stdout",
     "output_type": "stream",
     "text": [
      "Iteration [7]: [0.73482541]\n",
      "Iteration [8]: [0.8548204]\n"
     ]
    },
    {
     "name": "stderr",
     "output_type": "stream",
     "text": [
      "[Stage 51:>                                                         (0 + 2) / 2]\r"
     ]
    },
    {
     "name": "stdout",
     "output_type": "stream",
     "text": [
      "Iteration [9]: [0.99972771]\n"
     ]
    },
    {
     "name": "stderr",
     "output_type": "stream",
     "text": [
      "                                                                                \r"
     ]
    },
    {
     "data": {
      "text/plain": [
       "(array([-0.28405648, -0.76312973, -0.32437063, -0.14680474, -0.86540707,\n",
       "         0.84909936,  0.04750503, -1.13246116,  0.40680193,  0.59260817,\n",
       "         0.48080703]),\n",
       " array([3.70002409]))"
      ]
     },
     "execution_count": 24,
     "metadata": {},
     "output_type": "execute_result"
    }
   ],
   "source": [
    "def compute_sigmoid(z):\n",
    "    y = (1 /(1 + np.exp(-z)))\n",
    "    return y  \n",
    "    \n",
    "def train(RDD_Xy, iterations, learning_rate, lamba_reg):\n",
    "    #inicializar pesos\n",
    "    weights= np.random.rand(11)\n",
    "    biases = np.random.rand(1)   \n",
    "    #print((weights, biases))\n",
    "\n",
    "    for it in range(iterations):\n",
    "        #número de datos\n",
    "        m=RDD_Xy.count()\n",
    "        #calcular predicción (aplicar sigmoide a la multiplicación de los pesos más el sesgi)\n",
    "        rdd2=RDD_Xy.map(lambda x: (x[0], x[1],compute_sigmoid(np.dot(x[0],weights) + biases)))\n",
    "\n",
    "        item_2_costFunction = (lamba_reg/(2*11))*np.array([w**2 for w in weights]).sum() \n",
    "        # print(f\"Calculo 2: {item_2_costFunction}\")\n",
    "        \n",
    "        rdd2 = rdd2.map(lambda x: (x[0], x[1], x[2], -(x[1]*np.log(x[2]) + (1 - x[1])*np.log(1-x[2]))))\n",
    "        coste=rdd2.map(lambda x:x[3] )\n",
    "        coste=coste.reduce(lambda x,y:x+y )\n",
    "        \n",
    "        #fórmula de la derivada\n",
    "        rdd3= rdd2.map(lambda x: ((x[2]-x[1])*x[0],(x[2]-x[1])))\n",
    "        rdd4= rdd3.reduce(lambda x,y: (x[0]+y[0], x[1]+y[1]))\n",
    "        weights2 = (weights * lamba_reg)/ len(weights)\n",
    "        d_weights= ((rdd4[0]/ m) + weights2 ) \n",
    "        d_bias= -(rdd4[1]) / m\n",
    "        #actualización de las derivadas\n",
    "        weights = weights - learning_rate * d_weights\n",
    "        biases = biases - learning_rate * d_bias\n",
    "\n",
    "\n",
    "        coste=(coste/m) +  item_2_costFunction\n",
    "        print(f\"Iteration [{it}]: {coste}\")\n",
    "                \n",
    "    return weights, biases\n",
    "\n",
    "train(rdd1, 10, 1.5, 1)\n",
    "    "
   ]
  },
  {
   "cell_type": "code",
   "execution_count": 25,
   "id": "4a07a831-9ca7-4e60-af8c-cfdb30601c46",
   "metadata": {},
   "outputs": [],
   "source": [
    "def predict(w, b, X):\n",
    "    y = compute_sigmoid(np.dot(X,w) + b)\n",
    "    if y >= 0.5:\n",
    "        return 1\n",
    "    else: \n",
    "        return 0\n",
    "    "
   ]
  },
  {
   "cell_type": "code",
   "execution_count": 26,
   "id": "639e460c-97a4-45c2-8b23-8a125b997aac",
   "metadata": {},
   "outputs": [],
   "source": [
    "def accuracy(w,b, RDD_Xy):\n",
    "    y_hat = RDD_Xy.map(lambda x: (predict(w, b, x[0]), x[1]))  \n",
    "    preds = y_hat.map(lambda x: 1 if x[0] == x[1] else 0)\n",
    "    correct_preds = preds.reduce(lambda x, y: x + y)    \n",
    "    total = RDD_Xy.count()\n",
    "    accuracy = correct_preds / total\n",
    "    \n",
    "    return accuracy\n"
   ]
  },
  {
   "cell_type": "code",
   "execution_count": 27,
   "id": "1610f258-d51e-4dc2-bc53-04ad0b873377",
   "metadata": {},
   "outputs": [
    {
     "name": "stderr",
     "output_type": "stream",
     "text": [
      "                                                                                \r"
     ]
    },
    {
     "name": "stdout",
     "output_type": "stream",
     "text": [
      "Iteration [0]: [1.20318655]\n"
     ]
    },
    {
     "name": "stderr",
     "output_type": "stream",
     "text": [
      "                                                                                \r"
     ]
    },
    {
     "name": "stdout",
     "output_type": "stream",
     "text": [
      "Iteration [1]: [0.75198078]\n",
      "Iteration [2]: [0.58607128]\n"
     ]
    },
    {
     "name": "stderr",
     "output_type": "stream",
     "text": [
      "                                                                                \r"
     ]
    },
    {
     "name": "stdout",
     "output_type": "stream",
     "text": [
      "Iteration [3]: [0.53033]\n"
     ]
    },
    {
     "name": "stderr",
     "output_type": "stream",
     "text": [
      "                                                                                \r"
     ]
    },
    {
     "name": "stdout",
     "output_type": "stream",
     "text": [
      "Iteration [4]: [0.52185114]\n"
     ]
    },
    {
     "name": "stderr",
     "output_type": "stream",
     "text": [
      "                                                                                \r"
     ]
    },
    {
     "name": "stdout",
     "output_type": "stream",
     "text": [
      "Iteration [5]: [0.53880943]\n"
     ]
    },
    {
     "name": "stderr",
     "output_type": "stream",
     "text": [
      "                                                                                \r"
     ]
    },
    {
     "name": "stdout",
     "output_type": "stream",
     "text": [
      "Iteration [6]: [0.57233966]\n"
     ]
    },
    {
     "name": "stderr",
     "output_type": "stream",
     "text": [
      "                                                                                \r"
     ]
    },
    {
     "name": "stdout",
     "output_type": "stream",
     "text": [
      "Iteration [7]: [0.61803449]\n"
     ]
    },
    {
     "name": "stderr",
     "output_type": "stream",
     "text": [
      "                                                                                \r"
     ]
    },
    {
     "name": "stdout",
     "output_type": "stream",
     "text": [
      "Iteration [8]: [0.67322985]\n"
     ]
    },
    {
     "name": "stderr",
     "output_type": "stream",
     "text": [
      "                                                                                \r"
     ]
    },
    {
     "name": "stdout",
     "output_type": "stream",
     "text": [
      "Iteration [9]: [0.73605681]\n"
     ]
    },
    {
     "data": {
      "text/plain": [
       "0.6894"
      ]
     },
     "execution_count": 27,
     "metadata": {},
     "output_type": "execute_result"
    }
   ],
   "source": [
    "# TEST\n",
    "weights, biases = train(rdd1, 10, 1.5, 0)\n",
    "acc = accuracy(weights, biases, rdd1)\n",
    "acc"
   ]
  },
  {
   "cell_type": "code",
   "execution_count": 28,
   "id": "9e09d72d-ac54-438c-8166-e0b4b81f9e0b",
   "metadata": {},
   "outputs": [
    {
     "name": "stderr",
     "output_type": "stream",
     "text": [
      "                                                                                \r"
     ]
    },
    {
     "name": "stdout",
     "output_type": "stream",
     "text": [
      "Iteration [0]: [1.0388845]\n"
     ]
    },
    {
     "name": "stderr",
     "output_type": "stream",
     "text": [
      "                                                                                \r"
     ]
    },
    {
     "name": "stdout",
     "output_type": "stream",
     "text": [
      "Iteration [1]: [0.48985204]\n",
      "Iteration [2]: [0.35429785]\n"
     ]
    },
    {
     "name": "stderr",
     "output_type": "stream",
     "text": [
      "                                                                                \r"
     ]
    },
    {
     "name": "stdout",
     "output_type": "stream",
     "text": [
      "Iteration [3]: [0.31408856]\n"
     ]
    },
    {
     "name": "stderr",
     "output_type": "stream",
     "text": [
      "                                                                                \r"
     ]
    },
    {
     "name": "stdout",
     "output_type": "stream",
     "text": [
      "Iteration [4]: [0.29791856]\n"
     ]
    },
    {
     "name": "stderr",
     "output_type": "stream",
     "text": [
      "                                                                                \r"
     ]
    },
    {
     "name": "stdout",
     "output_type": "stream",
     "text": [
      "Iteration [5]: [0.29243179]\n"
     ]
    },
    {
     "name": "stderr",
     "output_type": "stream",
     "text": [
      "                                                                                \r"
     ]
    },
    {
     "name": "stdout",
     "output_type": "stream",
     "text": [
      "Iteration [6]: [0.29381734]\n",
      "Iteration [7]: [0.30075361]\n",
      "Iteration [8]: [0.31282163]\n"
     ]
    },
    {
     "name": "stderr",
     "output_type": "stream",
     "text": [
      "                                                                                \r"
     ]
    },
    {
     "name": "stdout",
     "output_type": "stream",
     "text": [
      "Iteration [9]: [0.32999612]\n"
     ]
    },
    {
     "name": "stderr",
     "output_type": "stream",
     "text": [
      "                                                                                \r"
     ]
    },
    {
     "name": "stdout",
     "output_type": "stream",
     "text": [
      "acc 0.8383\n"
     ]
    }
   ],
   "source": [
    "# read data\n",
    "path = 'botnet_reduced_10k_l.csv'\n",
    "data = readFile(path)\n",
    "\n",
    "# standardize\n",
    "data = normalize(data)\n",
    "\n",
    "nIter = 10\n",
    "learningRate = 1.5\n",
    "lamba_reg = 0\n",
    "\n",
    "weights, bias = train(data, nIter, learningRate, lamba_reg)\n",
    "acc = accuracy(weights, bias, data)\n",
    "print (\"acc\", acc)"
   ]
  },
  {
   "cell_type": "markdown",
   "id": "7611b01f-f8f6-4bc8-891d-63c0530980ce",
   "metadata": {},
   "source": [
    "### Ejercicio 2"
   ]
  },
  {
   "cell_type": "code",
   "execution_count": 29,
   "id": "77594df7-7e74-46bf-b871-c46fe0fd837c",
   "metadata": {},
   "outputs": [],
   "source": [
    "import random\n",
    "def transform(data, m, n_blocks):    \n",
    "\n",
    "    m_per_block = m / n_blocks\n",
    "    \n",
    "    indices = list(range(m)) \n",
    "    random.shuffle(indices)\n",
    "\n",
    "    indexed_data = data.map(lambda x: (1, [x]))\n",
    "    indexed_data = indexed_data.reduceByKey(lambda a, b: a + b) \n",
    "    indexed_data = indexed_data.flatMap(lambda x: [(indices[i]//m_per_block, item) for i, item in enumerate(x[1])])\n",
    "\n",
    "    return indexed_data"
   ]
  },
  {
   "cell_type": "code",
   "execution_count": 30,
   "id": "ade36261-9b65-4b93-be6b-d1563dd13b57",
   "metadata": {},
   "outputs": [],
   "source": [
    "import random\n",
    "def transform(data, m, n_blocks):   \n",
    "    #calcular n de elementos de cada bloque\n",
    "    #'//' para obtener un valor entero (división entera) sin decimales\n",
    "    m_per_block = m // n_blocks\n",
    "\n",
    "    #creamos una lista de índices que representan las filas del conjunto de datos\n",
    "    #tenemos lista tiene valores del 0 al m-1 (m es el número total de filas)\n",
    "    indices = list(range(m)) \n",
    "    # mezzclamos los índices para asegurarnos de que los datos se distribuyan de forma aleatoria entre los bloques\n",
    "    random.shuffle(indices)\n",
    "\n",
    "    #la operación modulo % asegura que el índice de cada fila se asigna a un bloque específico.\n",
    "    # el resultado de 'indices.pop() % n_blocks' será un valor entre 0 y (n_blocks-1)\n",
    "    #el operados hace que los datos se distribuyan entre los bloques de manera UNIFORME\n",
    "    # los datos se asignen cíclicamente a bloques (0, 1, 2,... hasta n-1), y como esta desordenado ya se aplica el shuffle.\n",
    "\n",
    "\n",
    "    #ahora se tiene el resultado de la operacion modulo (y se añade como clave a cada fila)\n",
    "    indexed_data = data.map(lambda x: (indices.pop() % n_blocks, x)) \n",
    "    #'x' es una fila del RDD original, y 'indices.pop() % n_blocks' le asigna un bloque aleatorio \n",
    "    #cada bloque tiene mas o menos el mismo número de elementos\n",
    "\n",
    "    #se puede comprobar con    \n",
    "    conteo_rdd = indexed_data.map(lambda x: (x[0], 1)).reduceByKey(lambda a, b: a + b)\n",
    "\n",
    "    #agrupar por bloque y hacer cuenta del numero de elementos de ese bloque\n",
    "    for bloque, count in conteo_rdd.collect():\n",
    "        print(f\"Bloque {bloque}: {count} elementos\")\n",
    "\n",
    "    #esto lo he copiado\n",
    "    return indexed_data.cache()\n"
   ]
  },
  {
   "cell_type": "code",
   "execution_count": 31,
   "id": "9ff848f0-2038-4f27-be49-60acd5fa2c36",
   "metadata": {},
   "outputs": [
    {
     "name": "stderr",
     "output_type": "stream",
     "text": [
      "[Stage 125:>                                                        (0 + 2) / 2]\r"
     ]
    },
    {
     "name": "stdout",
     "output_type": "stream",
     "text": [
      "Bloque 2: 3324 elementos\n",
      "Bloque 0: 3326 elementos\n",
      "Bloque 1: 3350 elementos\n"
     ]
    },
    {
     "name": "stderr",
     "output_type": "stream",
     "text": [
      "                                                                                \r"
     ]
    }
   ],
   "source": [
    "#pruebas \n",
    "\n",
    "path = 'botnet_reduced_10k_l.csv'\n",
    "data = readFile(path)\n",
    "\n",
    "# standardize\n",
    "data = normalize(data)\n",
    "num_blocks_cv = 3\n",
    "data_cv = transform(data, data.count(), num_blocks_cv)\n"
   ]
  },
  {
   "cell_type": "code",
   "execution_count": 32,
   "id": "36bb6954-5bda-4130-8e81-1ecf7190312d",
   "metadata": {},
   "outputs": [
    {
     "name": "stderr",
     "output_type": "stream",
     "text": [
      "                                                                                \r"
     ]
    },
    {
     "data": {
      "text/plain": [
       "[(2,\n",
       "  (array([ 1.41281668, -0.75956071, -0.41204268, -0.45940748,  1.39580934,\n",
       "          -0.35386218,  0.74057161, -0.8945781 , -0.40163083, -2.91039199,\n",
       "           0.1567098 ]),\n",
       "   0)),\n",
       " (1,\n",
       "  (array([-0.79867306, -0.89146231,  3.64034447, -0.45940748, -0.52296869,\n",
       "          -0.35387136,  0.55184122, -0.8945781 , -1.27444226,  0.4762026 ,\n",
       "           0.1567098 ]),\n",
       "   1)),\n",
       " (2,\n",
       "  (array([ 1.44693571,  1.38000803, -0.41371517, -0.45940748, -0.52296783,\n",
       "          -0.35387107,  0.74057161,  1.49057358,  0.9904482 , -0.73801555,\n",
       "          -1.74828175]),\n",
       "   0))]"
      ]
     },
     "execution_count": 32,
     "metadata": {},
     "output_type": "execute_result"
    }
   ],
   "source": [
    "data_cv.take(3)"
   ]
  },
  {
   "cell_type": "code",
   "execution_count": 33,
   "id": "32d7e5e7-df69-459a-a117-02aa9ff525de",
   "metadata": {},
   "outputs": [],
   "source": [
    "def get_block_data(data_cv, i, n_blocks):\n",
    "    #agrupamos los datos por bloque usando el valor de la clave (n de bloque) y almacenamos los datos al lado\n",
    "    #tengo (bloque/slice , dato (array y etiqueta))\n",
    "    grouped_data = data_cv.map(lambda x: (x[0], [x[1]])) \n",
    "\n",
    "    \n",
    "    #reduceByKey' para concatenar los elementos de la misma clave (bloque), es decir, agrupamos\n",
    "    #los datos que tienen el mismo valor de bloque.\n",
    "    grouped_data = grouped_data.reduceByKey(lambda a, b: a + b) \n",
    "    #aqui tenemos clave (n de bloque, lista de datos (filas con su array de 11 elementos, etiqueta))\n",
    "    \n",
    "    #en cada iteracion de este bucle trabajo con un slice o bloque \n",
    "    #tomamos todos los elementos cuyo bloque no sea el valor 'i' actual.\n",
    "    tr_data = grouped_data.map(lambda x: (x[0], [item for item in x[1] if x[0] != i]))\n",
    "    test_data = grouped_data.map(lambda x: (x[0], [item for item in x[1] if x[0] == i])) # el resto de test (elementos con clave el i)\n",
    "\n",
    "    # hasta ahora tenia lista de listas para cada bloque (al agrupar con reducebykey)\n",
    "    #aplano y tengo solo los datos no la clave del bloque (ya no se va a usar)\n",
    "    tr_data = tr_data.flatMap(lambda x: x[1])  \n",
    "    test_data = test_data.flatMap(lambda x: x[1])  \n",
    "    \n",
    "    return tr_data, test_data\n",
    "    return tr_data, test_data"
   ]
  },
  {
   "cell_type": "code",
   "execution_count": 34,
   "id": "83af256a-021d-47f5-be8c-5b4e8f827caa",
   "metadata": {},
   "outputs": [
    {
     "name": "stdout",
     "output_type": "stream",
     "text": [
      "\n",
      "Slice 1:\n"
     ]
    },
    {
     "name": "stderr",
     "output_type": "stream",
     "text": [
      "                                                                                \r"
     ]
    },
    {
     "name": "stdout",
     "output_type": "stream",
     "text": [
      "  Datos de Entrenamiento - Número de elementos: 6674\n",
      "  Datos de Prueba - Número de elementos: 3326\n",
      "Iteration [0]: [1.52733507]\n",
      "Iteration [1]: [0.76857992]\n",
      "Iteration [2]: [0.49949568]\n",
      "Iteration [3]: [0.40029288]\n",
      "Iteration [4]: [0.35544898]\n",
      "Iteration [5]: [0.33358647]\n",
      "Iteration [6]: [0.32456327]\n",
      "Iteration [7]: [0.32448411]\n",
      "Iteration [8]: [0.3317352]\n"
     ]
    },
    {
     "name": "stderr",
     "output_type": "stream",
     "text": [
      "                                                                                \r"
     ]
    },
    {
     "name": "stdout",
     "output_type": "stream",
     "text": [
      "Iteration [9]: [0.34568371]\n",
      "acc : 0.8268190018039687\n",
      "\n",
      "Slice 2:\n",
      "  Datos de Entrenamiento - Número de elementos: 6650\n",
      "  Datos de Prueba - Número de elementos: 3350\n",
      "Iteration [0]: [1.33722647]\n",
      "Iteration [1]: [0.71470643]\n"
     ]
    },
    {
     "name": "stderr",
     "output_type": "stream",
     "text": [
      "                                                                                \r"
     ]
    },
    {
     "name": "stdout",
     "output_type": "stream",
     "text": [
      "Iteration [2]: [0.49151176]\n",
      "Iteration [3]: [0.40411675]\n",
      "Iteration [4]: [0.36687761]\n",
      "Iteration [5]: [0.35404026]\n",
      "Iteration [6]: [0.35595065]\n",
      "Iteration [7]: [0.36854262]\n",
      "Iteration [8]: [0.38997965]\n",
      "Iteration [9]: [0.41936219]\n",
      "acc : 0.7862686567164179\n",
      "\n",
      "Slice 3:\n",
      "  Datos de Entrenamiento - Número de elementos: 6676\n",
      "  Datos de Prueba - Número de elementos: 3324\n",
      "Iteration [0]: [1.56012231]\n",
      "Iteration [1]: [0.73893323]\n",
      "Iteration [2]: [0.43738647]\n",
      "Iteration [3]: [0.34299072]\n",
      "Iteration [4]: [0.3074498]\n",
      "Iteration [5]: [0.29312275]\n",
      "Iteration [6]: [0.28937742]\n",
      "Iteration [7]: [0.29255038]\n",
      "Iteration [8]: [0.30126723]\n",
      "Iteration [9]: [0.31506313]\n",
      "acc : 0.8423586040914561\n",
      "average acc:  0.8184820875372809\n"
     ]
    }
   ],
   "source": [
    "# read data\n",
    "path = 'botnet_reduced_10k_l.csv'\n",
    "data = readFile(path)\n",
    "\n",
    "# standardize\n",
    "data = normalize(data)\n",
    "\n",
    "num_blocks_cv = 3\n",
    "\n",
    "nIter = 10\n",
    "learningRate = 1.5\n",
    "lamba_reg = 0\n",
    "\n",
    "accuracies = []\n",
    "\n",
    "for i in range(num_blocks_cv):\n",
    "    tr_data, test_data = get_block_data(data_cv, i, num_blocks_cv)    \n",
    "    print(f\"\\nSlice {i+1}:\")\n",
    "    print(f\"  Datos de Entrenamiento - Número de elementos: {tr_data.count()}\")\n",
    "    print(f\"  Datos de Prueba - Número de elementos: {test_data.count()}\")\n",
    "    #el profe en el enunciado devuelve solo ws, la funcion creada antes devuelve w, b separadamente\n",
    "    w,b = train(tr_data,nIter,learningRate, lamba_reg)\n",
    "    #el profe en el enunciado coge dos argumentos, en la funcion creada antes se cogen 3\n",
    "    acc = accuracy(w,b, test_data)\n",
    "    print(\"acc :\", acc)\n",
    "    #guardar acc de cada iteracion (que es con distinto conjunto de datos de train y test)\n",
    "    accuracies.append(acc)\n",
    "\n",
    "avg_acc = sum(accuracies) / num_blocks_cv\n",
    "print(\"average acc: \", avg_acc)\n",
    "    "
   ]
  },
  {
   "cell_type": "code",
   "execution_count": null,
   "id": "56710cd3-61cd-492b-a52e-0499c1a3e62b",
   "metadata": {},
   "outputs": [],
   "source": []
  }
 ],
 "metadata": {
  "kernelspec": {
   "display_name": "Python 3 (ipykernel)",
   "language": "python",
   "name": "python3"
  },
  "language_info": {
   "codemirror_mode": {
    "name": "ipython",
    "version": 3
   },
   "file_extension": ".py",
   "mimetype": "text/x-python",
   "name": "python",
   "nbconvert_exporter": "python",
   "pygments_lexer": "ipython3",
   "version": "3.11.6"
  }
 },
 "nbformat": 4,
 "nbformat_minor": 5
}
